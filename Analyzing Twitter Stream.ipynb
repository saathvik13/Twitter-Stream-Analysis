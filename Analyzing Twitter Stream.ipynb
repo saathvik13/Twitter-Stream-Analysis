{
 "cells": [
  {
   "cell_type": "markdown",
   "id": "78a437bc",
   "metadata": {},
   "source": [
    "# PLSI for Analyzing Twitter Stream"
   ]
  },
  {
   "cell_type": "markdown",
   "id": "00337995",
   "metadata": {},
   "source": [
    "## 1. twitter.mat holds two Term-Frequency (TF) matrices Xtr and Xte. It also contains YtrMat and YteMat, the target variables in the one-hot vector format."
   ]
  },
  {
   "cell_type": "code",
   "execution_count": 38,
   "id": "d59e43f5",
   "metadata": {},
   "outputs": [
    {
     "data": {
      "text/plain": [
       "{'__header__': b'MATLAB 5.0 MAT-file, Platform: MACI64, Created on: Sat Apr  8 02:28:48 2017',\n",
       " '__version__': '1.0',\n",
       " '__globals__': [],\n",
       " 'Xte': array([[0, 0, 0, ..., 0, 0, 0],\n",
       "        [0, 0, 0, ..., 0, 0, 0],\n",
       "        [0, 0, 0, ..., 0, 0, 0],\n",
       "        ...,\n",
       "        [0, 0, 0, ..., 0, 0, 0],\n",
       "        [0, 0, 0, ..., 0, 0, 0],\n",
       "        [0, 0, 0, ..., 0, 0, 0]], dtype=uint8),\n",
       " 'Xtr': array([[0, 0, 0, ..., 0, 0, 0],\n",
       "        [0, 0, 0, ..., 0, 0, 0],\n",
       "        [0, 0, 0, ..., 0, 0, 0],\n",
       "        ...,\n",
       "        [0, 0, 0, ..., 0, 0, 0],\n",
       "        [0, 0, 0, ..., 0, 0, 0],\n",
       "        [0, 0, 0, ..., 0, 0, 0]], dtype=uint8),\n",
       " 'YteMat': array([[0, 0, 0, 0, 0, 0, 0, 0, 0, 1, 0, 0, 1, 1, 0, 0, 0, 0, 0, 0, 0, 0,\n",
       "         0, 0, 0, 0, 0, 0, 1, 0, 0, 0, 0, 0, 1, 0, 0, 0, 0, 1, 0, 0, 0, 0,\n",
       "         0, 1, 0, 0, 0, 1, 1, 0, 0, 0, 0, 1, 0, 1, 0, 0, 0, 1, 0, 0, 0, 0,\n",
       "         0, 0, 1, 0, 0, 0, 0, 0, 0, 0, 0, 0, 0, 0, 0, 0, 0, 1, 1, 1, 0, 0,\n",
       "         0, 0, 0, 1, 0, 0, 1, 0, 0, 0, 0, 0, 0, 0, 1, 0, 0, 0, 0, 0, 0, 0,\n",
       "         1, 0, 0, 0, 0, 0, 0, 0, 0, 0, 1, 0, 0, 0, 0, 1, 1, 0, 1, 0, 0, 0,\n",
       "         0, 1, 0, 0, 0, 1, 0, 0, 0, 0, 0, 0, 0, 0, 0, 0, 0, 1, 0, 0, 0, 1,\n",
       "         0, 0, 0, 0, 0, 0, 1, 0, 1, 0, 0, 0, 0, 0, 0, 0, 0, 0, 0, 1, 0, 0,\n",
       "         0, 0, 1, 0, 0, 0, 0, 0, 0, 0, 0, 0, 0, 0, 0, 0, 0],\n",
       "        [1, 0, 0, 1, 0, 0, 1, 1, 0, 0, 0, 0, 0, 0, 0, 1, 0, 0, 0, 1, 0, 0,\n",
       "         1, 0, 0, 0, 1, 1, 0, 0, 0, 0, 0, 1, 0, 1, 0, 0, 0, 0, 0, 0, 1, 1,\n",
       "         0, 0, 0, 0, 1, 0, 0, 1, 1, 0, 1, 0, 0, 0, 0, 0, 0, 0, 1, 0, 0, 0,\n",
       "         0, 0, 0, 0, 0, 1, 0, 1, 0, 1, 0, 1, 0, 0, 0, 0, 0, 0, 0, 0, 0, 0,\n",
       "         0, 0, 0, 0, 1, 1, 0, 1, 0, 0, 0, 1, 1, 1, 0, 1, 1, 0, 0, 0, 0, 0,\n",
       "         0, 1, 0, 0, 0, 1, 0, 1, 1, 1, 0, 0, 0, 1, 0, 0, 0, 0, 0, 1, 0, 0,\n",
       "         0, 0, 0, 0, 0, 0, 0, 1, 0, 1, 0, 0, 1, 0, 0, 0, 1, 0, 0, 1, 1, 0,\n",
       "         0, 0, 0, 0, 1, 0, 0, 1, 0, 1, 1, 1, 0, 1, 1, 0, 0, 0, 0, 0, 1, 1,\n",
       "         0, 0, 0, 0, 0, 0, 1, 0, 0, 0, 1, 0, 0, 1, 0, 1, 0],\n",
       "        [0, 1, 1, 0, 1, 1, 0, 0, 1, 0, 1, 1, 0, 0, 1, 0, 1, 1, 1, 0, 1, 1,\n",
       "         0, 1, 1, 1, 0, 0, 0, 1, 1, 1, 1, 0, 0, 0, 1, 1, 1, 0, 1, 1, 0, 0,\n",
       "         1, 0, 1, 1, 0, 0, 0, 0, 0, 1, 0, 0, 1, 0, 1, 1, 1, 0, 0, 1, 1, 1,\n",
       "         1, 1, 0, 1, 1, 0, 1, 0, 1, 0, 1, 0, 1, 1, 1, 1, 1, 0, 0, 0, 1, 1,\n",
       "         1, 1, 1, 0, 0, 0, 0, 0, 1, 1, 1, 0, 0, 0, 0, 0, 0, 1, 1, 1, 1, 1,\n",
       "         0, 0, 1, 1, 1, 0, 1, 0, 0, 0, 0, 1, 1, 0, 1, 0, 0, 1, 0, 0, 1, 1,\n",
       "         1, 0, 1, 1, 1, 0, 1, 0, 1, 0, 1, 1, 0, 1, 1, 1, 0, 0, 1, 0, 0, 0,\n",
       "         1, 1, 1, 1, 0, 1, 0, 0, 0, 0, 0, 0, 1, 0, 0, 1, 1, 1, 1, 0, 0, 0,\n",
       "         1, 1, 0, 1, 1, 1, 0, 1, 1, 1, 0, 1, 1, 0, 1, 0, 1]], dtype=uint8),\n",
       " 'YtrMat': array([[1, 1, 1, ..., 0, 0, 0],\n",
       "        [0, 0, 0, ..., 0, 0, 0],\n",
       "        [0, 0, 0, ..., 1, 1, 1]], dtype=uint8)}"
      ]
     },
     "execution_count": 38,
     "metadata": {},
     "output_type": "execute_result"
    }
   ],
   "source": [
    "mat = scipy.io.loadmat('data/twitter.mat')\n",
    "mat"
   ]
  },
  {
   "cell_type": "markdown",
   "id": "5efb894a",
   "metadata": {},
   "source": [
    "## 2. Each column of the TF matrix Xtr can be either “positive”, “negative”, or “neutral”, which are represented numerically as 1, 2, and 3 in the YtrMat. They are sentimental classes of the original twits."
   ]
  },
  {
   "cell_type": "code",
   "execution_count": 39,
   "id": "419dd583",
   "metadata": {},
   "outputs": [],
   "source": [
    "# Extracting training and testing data from twitter.mat\n",
    "X_train = mat['Xtr']\n",
    "Y_train_M = mat['YtrMat']\n",
    "\n",
    "X_test = mat['Xte']\n",
    "Y_test_M = mat['YteMat']"
   ]
  },
  {
   "cell_type": "markdown",
   "id": "38fda7ed",
   "metadata": {},
   "source": [
    "## 3. Learn 50 PLSI topics B ∈ R891×50 and their weights Θtr ∈ R50×773 from the training data Xtr, using the ordinary PLSI update rules."
   ]
  },
  {
   "cell_type": "code",
   "execution_count": 40,
   "id": "eb8c305e",
   "metadata": {},
   "outputs": [],
   "source": [
    "# initialize random topics\n",
    "B = np.random.randn(891, 50)\n",
    "\n",
    "# initialize random weights\n",
    "O = np.random.randn(50, 773)"
   ]
  },
  {
   "cell_type": "code",
   "execution_count": 41,
   "id": "8de5805f",
   "metadata": {},
   "outputs": [],
   "source": [
    "def get_d(B, O):\n",
    "    d = np.dot(B, O)\n",
    "    d[d == 0] = 0.0001\n",
    "    return d"
   ]
  },
  {
   "cell_type": "code",
   "execution_count": 42,
   "id": "40a1e5ed",
   "metadata": {},
   "outputs": [],
   "source": [
    "def update_topics(B, O, X, d):\n",
    "    B = B * np.dot((X/d), O.T)\n",
    "    B = B / np.dot(np.ones([B.shape[0], B.shape[0]]), B)\n",
    "    return B"
   ]
  },
  {
   "cell_type": "code",
   "execution_count": 43,
   "id": "fd838995",
   "metadata": {},
   "outputs": [],
   "source": [
    "def update_weights(B, O, X, d):   \n",
    "    O = O * np.dot(B.T, (X/d))\n",
    "    O = O / np.dot(np.ones([O.shape[0], O.shape[0]]), O)\n",
    "    return O"
   ]
  },
  {
   "cell_type": "code",
   "execution_count": 44,
   "id": "a3fd4daa",
   "metadata": {},
   "outputs": [],
   "source": [
    "for i in range(500):\n",
    "    d = get_d(B, O)\n",
    "    B = update_topics(B, O, X_train, d)\n",
    "\n",
    "    d = get_d(B, O)\n",
    "    O = update_weights(B, O, X_train, d)"
   ]
  },
  {
   "cell_type": "markdown",
   "id": "f65fa213",
   "metadata": {},
   "source": [
    "## 4. Reduce the dimension of Xte down to 50, by learning the weight matrix Θte ∈ R50×193. This can be done by doing another PLSI on the test data Xte, but this time by reusing the topic matrix B you learned from the training set. So, you skip the update rule for B. You only update Θte ∈ R50×193."
   ]
  },
  {
   "cell_type": "code",
   "execution_count": 45,
   "id": "1b229f81",
   "metadata": {},
   "outputs": [],
   "source": [
    "O_new = np.random.rand(50,193)\n",
    "\n",
    "for i in range(500):\n",
    "    d = get_d(B, O_new)\n",
    "    update_weights(B, O_new, X_test, d)"
   ]
  },
  {
   "cell_type": "code",
   "execution_count": 46,
   "id": "d1d39bf9",
   "metadata": {},
   "outputs": [],
   "source": [
    "lr = 0.005\n",
    "\n",
    "W = np.random.uniform(0, 5, (3, O.shape[0]))\n",
    "b = np.random.uniform(0, 5, (3,1))\n",
    "error_list = []"
   ]
  },
  {
   "cell_type": "markdown",
   "id": "7f20bd7b",
   "metadata": {},
   "source": [
    "## 5. Define a perceptron layer for the softmax classification. This part is similar to the case with kernel PCA with a perceptron as you did in Homework #5. Instead of the kernel PCA results as the input to the perceptron, you use Θtr for training, and Θte for testing. This time the number of output units is 3 as there are three classes, and that’s why the target variable YtrMat is with three elements. Review M6 S37-39 to review what softmax is."
   ]
  },
  {
   "cell_type": "code",
   "execution_count": 47,
   "id": "01c62fdd",
   "metadata": {},
   "outputs": [],
   "source": [
    "def softmax(W, O, b):\n",
    "    Y_cap = np.exp(np.dot(W, O) + b)\n",
    "    Y_cap = Y_cap / np.sum(Y_cap, axis=0).reshape(1,-1)\n",
    "    return Y_cap"
   ]
  },
  {
   "cell_type": "code",
   "execution_count": 48,
   "id": "0b1fb859",
   "metadata": {},
   "outputs": [],
   "source": [
    "def update_weights(X, lr, delta_X):\n",
    "    X = X - (lr * delta_X)\n",
    "    return X"
   ]
  },
  {
   "cell_type": "code",
   "execution_count": 49,
   "id": "030235ce",
   "metadata": {},
   "outputs": [],
   "source": [
    "for i in range(1000):\n",
    "    Y_cap = softmax(W, O, b)\n",
    "    \n",
    "    diff = Y_cap - Y_train_M\n",
    "    delta_w = np.dot(diff, O.T)\n",
    "    delta_b = np.dot(diff, np.ones([Y_train_M.shape[1],1]))\n",
    "    \n",
    "    W = update_weights(W, lr, delta_w)\n",
    "    B = update_weights(b, lr, delta_b)\n",
    "        \n",
    "    error = -np.sum(Y_train_M * np.log(Y_cap))\n",
    "    error_list.append(error)"
   ]
  },
  {
   "cell_type": "markdown",
   "id": "43f57db0",
   "metadata": {},
   "source": [
    "## 6. Report your classification accuracy."
   ]
  },
  {
   "cell_type": "code",
   "execution_count": 50,
   "id": "d7da24c6",
   "metadata": {},
   "outputs": [],
   "source": [
    "def scores(Y_cap, Y):\n",
    "    match_count = np.sum(np.argmax(Y_cap, axis=0) == np.argmax(Y, axis=0))\n",
    "    score = match_count / Y.shape[1]\n",
    "    return score"
   ]
  },
  {
   "cell_type": "code",
   "execution_count": 51,
   "id": "c50f9d9e",
   "metadata": {},
   "outputs": [],
   "source": [
    "Y_cap_test = softmax(W, O_new, b)\n",
    "\n",
    "train_score = scores(Y_cap, Y_train_M)\n",
    "test_score = scores(Y_cap_test, Y_test_M)"
   ]
  },
  {
   "cell_type": "code",
   "execution_count": 52,
   "id": "1f1df3c4",
   "metadata": {},
   "outputs": [
    {
     "name": "stdout",
     "output_type": "stream",
     "text": [
      "Training accuracy is: 0.6351875808538163\n",
      "Testing accuracy is: 0.5440414507772021\n"
     ]
    }
   ],
   "source": [
    "print('Training accuracy is: ' + str(train_score))\n",
    "print('Testing accuracy is: ' + str(test_score))"
   ]
  },
  {
   "cell_type": "code",
   "execution_count": 53,
   "id": "7cbc12f4",
   "metadata": {},
   "outputs": [
    {
     "data": {
      "image/png": "[encoded data removed]",
      "text/plain": [
       "<Figure size 432x288 with 1 Axes>"
      ]
     },
     "metadata": {
      "needs_background": "light"
     },
     "output_type": "display_data"
    }
   ],
   "source": [
    "plt.title('Error VS Epochs')\n",
    "plt.xlabel('Epochs')\n",
    "plt.ylabel('Errors')\n",
    "plt.plot(error_list)\n",
    "plt.show()"
   ]
  },
  {
   "cell_type": "code",
   "execution_count": null,
   "id": "658f9161",
   "metadata": {},
   "outputs": [],
   "source": []
  }
 ],
 "metadata": {
  "kernelspec": {
   "display_name": "Python 3 (ipykernel)",
   "language": "python",
   "name": "python3"
  },
  "language_info": {
   "codemirror_mode": {
    "name": "ipython",
    "version": 3
   },
   "file_extension": ".py",
   "mimetype": "text/x-python",
   "name": "python",
   "nbconvert_exporter": "python",
   "pygments_lexer": "ipython3",
   "version": "3.9.7"
  }
 },
 "nbformat": 4,
 "nbformat_minor": 5
}
